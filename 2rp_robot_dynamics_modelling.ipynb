{
 "cells": [
  {
   "cell_type": "code",
   "execution_count": 1,
   "id": "0f3293ec",
   "metadata": {},
   "outputs": [],
   "source": [
    "import sympy as sm"
   ]
  },
  {
   "cell_type": "code",
   "execution_count": 2,
   "id": "30bffe3b",
   "metadata": {},
   "outputs": [],
   "source": [
    "from sympy.physics.vector import init_vprinting\n",
    "init_vprinting(use_latex=\"mathjax\", pretty_print=False)"
   ]
  },
  {
   "cell_type": "code",
   "execution_count": 41,
   "id": "09a67904",
   "metadata": {},
   "outputs": [],
   "source": [
    "from sympy.physics.mechanics import dynamicsymbols"
   ]
  },
  {
   "cell_type": "code",
   "execution_count": 42,
   "id": "d7c3bce4",
   "metadata": {},
   "outputs": [
    {
     "data": {
      "text/latex": [
       "$\\displaystyle \\left( m_{1}, \\  m_{2}, \\  l_{1}, \\  l_{2}, \\  \\theta_{1}, \\  \\theta_{2}, \\  \\dot{\\theta}_{1}, \\  \\dot{\\theta}_{2}, \\  g\\right)$"
      ],
      "text/plain": [
       "(m1, m2, l1, l2, theta1, theta2, theta1', theta2', g)"
      ]
     },
     "execution_count": 42,
     "metadata": {},
     "output_type": "execute_result"
    }
   ],
   "source": [
    "g = sm.symbols('g', real=True)\n",
    "m1, m2, l1, l2, theta1, theta2 = dynamicsymbols('m1, m2, l1, l2, theta1, theta2')\n",
    "theta1d = dynamicsymbols('theta1',1)\n",
    "theta2d = dynamicsymbols('theta2',1)\n",
    "m1, m2, l1, l2, theta1, theta2, theta1d, theta2d,g"
   ]
  },
  {
   "cell_type": "code",
   "execution_count": 43,
   "id": "0a39bc90",
   "metadata": {},
   "outputs": [
    {
     "data": {
      "text/latex": [
       "$\\displaystyle \\left(0.5 m_{1} + 0.5 m_{2}\\right) l_{1}^{2} \\dot{\\theta}_{1}^{2} + \\left(\\dot{\\theta}_{1}^{2} + \\dot{\\theta}_{1} \\dot{\\theta}_{2}\\right) l_{1} l_{2} m_{2} \\cos{\\left(\\theta_{2} \\right)} + 0.5 l_{1}^{2} m_{2} \\dot{\\theta}_{1}^{2} + 0.5 l_{2}^{2} m_{2} \\dot{\\theta}_{1} \\dot{\\theta}_{2} + 0.5 l_{2}^{2} m_{2} \\dot{\\theta}_{2}^{2}$"
      ],
      "text/plain": [
       "(0.5*m1 + 0.5*m2)*l1**2*theta1'**2 + (theta1'**2 + theta1'*theta2')*l1*l2*m2*cos(theta2) + 0.5*l1**2*m2*theta1'**2 + 0.5*l2**2*m2*theta1'*theta2' + 0.5*l2**2*m2*theta2'**2"
      ]
     },
     "execution_count": 43,
     "metadata": {},
     "output_type": "execute_result"
    }
   ],
   "source": [
    "# kinetic energy\n",
    "ke = ((1/2)*(m1 + m2)*(sm.Pow(l1,2))*(sm.Pow(theta1d,2)))\n",
    "ke += ((1/2)*(m2)*(sm.Pow(l1,2))*(sm.Pow(theta1d,2)))\n",
    "ke += ((1/2)*(m2)*(sm.Pow(l2,2))*(theta1d)*(theta2d))\n",
    "ke += ((1/2)*(m2)*(sm.Pow(l2,2))*(sm.Pow(theta2d,2)))\n",
    "ke += (m2*l1*l2)*sm.cos(theta2)*((theta1d*theta2d)+sm.Pow(theta1d,2))\n",
    "ke"
   ]
  },
  {
   "cell_type": "code",
   "execution_count": 36,
   "id": "d4b7df66",
   "metadata": {},
   "outputs": [
    {
     "data": {
      "text/latex": [
       "$\\displaystyle \\left(l_{1} \\cos{\\left(\\theta_{1} \\right)} + l_{2} \\cos{\\left(\\theta_{1} + \\theta_{2} \\right)}\\right) g m_{2} + g l_{1} m_{1} \\cos{\\left(\\theta_{1} \\right)}$"
      ],
      "text/plain": [
       "(l1*cos(theta1) + l2*cos(theta1 + theta2))*g*m2 + g*l1*m1*cos(theta1)"
      ]
     },
     "execution_count": 36,
     "metadata": {},
     "output_type": "execute_result"
    }
   ],
   "source": [
    "# potential energy\n",
    "pe = m1*g*l1*sm.cos(theta1)\n",
    "pe += m2*g*(l1*sm.cos(theta1) +l2*sm.cos(theta1+theta2))\n",
    "pe"
   ]
  },
  {
   "cell_type": "code",
   "execution_count": 46,
   "id": "6e6f4869",
   "metadata": {},
   "outputs": [
    {
     "data": {
      "text/latex": [
       "$\\displaystyle \\left(l_{1} \\sin{\\left(\\theta_{1} \\right)} + l_{2} \\sin{\\left(\\theta_{1} + \\theta_{2} \\right)}\\right) g \\dot{m}_{2} + \\left(l_{1} \\sin{\\left(\\theta_{1} \\right)} + l_{2} \\sin{\\left(\\theta_{1} + \\theta_{2} \\right)}\\right) m_{2} \\dot{g} + \\left(\\left(\\dot{\\theta}_{1} + \\dot{\\theta}_{2}\\right) l_{2} \\cos{\\left(\\theta_{1} + \\theta_{2} \\right)} + l_{1} \\cos{\\left(\\theta_{1} \\right)} \\dot{\\theta}_{1} + \\sin{\\left(\\theta_{1} + \\theta_{2} \\right)} \\dot{l}_{2} + \\sin{\\left(\\theta_{1} \\right)} \\dot{l}_{1}\\right) g m_{2} + g l_{1} m_{1} \\cos{\\left(\\theta_{1} \\right)} \\dot{\\theta}_{1} + g l_{1} \\sin{\\left(\\theta_{1} \\right)} \\dot{m}_{1} + g m_{1} \\sin{\\left(\\theta_{1} \\right)} \\dot{l}_{1} + l_{1} m_{1} \\sin{\\left(\\theta_{1} \\right)} \\dot{g} - \\dot{\\theta}_{1}$"
      ],
      "text/plain": [
       "(l1*sin(theta1) + l2*sin(theta1 + theta2))*g*m2' + (l1*sin(theta1) + l2*sin(theta1 + theta2))*m2*g' + ((theta1' + theta2')*l2*cos(theta1 + theta2) + l1*cos(theta1)*theta1' + sin(theta1 + theta2)*l2' + sin(theta1)*l1')*g*m2 + g*l1*m1*cos(theta1)*theta1' + g*l1*sin(theta1)*m1' + g*m1*sin(theta1)*l1' + l1*m1*sin(theta1)*g' - theta1'"
      ]
     },
     "execution_count": 46,
     "metadata": {},
     "output_type": "execute_result"
    }
   ],
   "source": [
    "# the lagrangian equation\n",
    "L = ke - pe"
   ]
  },
  {
   "cell_type": "code",
   "execution_count": 49,
   "id": "25226073",
   "metadata": {},
   "outputs": [
    {
     "data": {
      "text/latex": [
       "$\\displaystyle \\left(l_{1} \\sin{\\left(\\theta_{1} \\right)} + l_{2} \\sin{\\left(\\theta_{1} + \\theta_{2} \\right)}\\right) g \\dot{m}_{2} + \\left(l_{1} \\sin{\\left(\\theta_{1} \\right)} + l_{2} \\sin{\\left(\\theta_{1} + \\theta_{2} \\right)}\\right) m_{2} \\dot{g} + \\left(\\left(\\dot{\\theta}_{1} + \\dot{\\theta}_{2}\\right) l_{2} \\cos{\\left(\\theta_{1} + \\theta_{2} \\right)} + l_{1} \\cos{\\left(\\theta_{1} \\right)} \\dot{\\theta}_{1} + \\sin{\\left(\\theta_{1} + \\theta_{2} \\right)} \\dot{l}_{2} + \\sin{\\left(\\theta_{1} \\right)} \\dot{l}_{1}\\right) g m_{2} + g l_{1} m_{1} \\cos{\\left(\\theta_{1} \\right)} \\dot{\\theta}_{1} + g l_{1} \\sin{\\left(\\theta_{1} \\right)} \\dot{m}_{1} + g m_{1} \\sin{\\left(\\theta_{1} \\right)} \\dot{l}_{1} + l_{1} m_{1} \\sin{\\left(\\theta_{1} \\right)} \\dot{g} - \\dot{\\theta}_{1}$"
      ],
      "text/plain": [
       "(l1*sin(theta1) + l2*sin(theta1 + theta2))*g*m2' + (l1*sin(theta1) + l2*sin(theta1 + theta2))*m2*g' + ((theta1' + theta2')*l2*cos(theta1 + theta2) + l1*cos(theta1)*theta1' + sin(theta1 + theta2)*l2' + sin(theta1)*l1')*g*m2 + g*l1*m1*cos(theta1)*theta1' + g*l1*sin(theta1)*m1' + g*m1*sin(theta1)*l1' + l1*m1*sin(theta1)*g' - theta1'"
      ]
     },
     "execution_count": 49,
     "metadata": {},
     "output_type": "execute_result"
    }
   ],
   "source": [
    "# force applied at joint 1\n",
    "f1 = sm.diff(sm.diff(L,theta1),'t') - sm.diff(theta1)\n",
    "f1sim = sm.simplify(f1)\n",
    "f1sim"
   ]
  },
  {
   "cell_type": "code",
   "execution_count": 50,
   "id": "884c775b",
   "metadata": {},
   "outputs": [
    {
     "data": {
      "text/latex": [
       "$\\displaystyle \\left(\\dot{\\theta}_{1} + \\dot{\\theta}_{2}\\right) g l_{2} m_{2} \\cos{\\left(\\theta_{1} + \\theta_{2} \\right)} - \\left(\\dot{\\theta}_{1} + \\dot{\\theta}_{2}\\right) l_{1} l_{2} m_{2} \\cos{\\left(\\theta_{2} \\right)} \\dot{\\theta}_{1} \\dot{\\theta}_{2} - \\left(\\dot{\\theta}_{1} + \\dot{\\theta}_{2}\\right) l_{1} l_{2} \\sin{\\left(\\theta_{2} \\right)} \\dot{m}_{2} \\dot{\\theta}_{1} - \\left(\\dot{\\theta}_{1} + \\dot{\\theta}_{2}\\right) l_{1} m_{2} \\sin{\\left(\\theta_{2} \\right)} \\dot{l}_{2} \\dot{\\theta}_{1} - \\left(\\dot{\\theta}_{1} + \\dot{\\theta}_{2}\\right) l_{2} m_{2} \\sin{\\left(\\theta_{2} \\right)} \\dot{l}_{1} \\dot{\\theta}_{1} - \\left(2 \\dot{\\theta}_{1} \\ddot{\\theta}_{1} + \\dot{\\theta}_{1} \\ddot{\\theta}_{2} + \\ddot{\\theta}_{1} \\dot{\\theta}_{2}\\right) l_{1} l_{2} m_{2} \\sin{\\left(\\theta_{2} \\right)} + g l_{2} \\sin{\\left(\\theta_{1} + \\theta_{2} \\right)} \\dot{m}_{2} + g m_{2} \\sin{\\left(\\theta_{1} + \\theta_{2} \\right)} \\dot{l}_{2} + l_{2} m_{2} \\sin{\\left(\\theta_{1} + \\theta_{2} \\right)} \\dot{g} - \\dot{\\theta}_{2}$"
      ],
      "text/plain": [
       "(theta1' + theta2')*g*l2*m2*cos(theta1 + theta2) - (theta1' + theta2')*l1*l2*m2*cos(theta2)*theta1'*theta2' - (theta1' + theta2')*l1*l2*sin(theta2)*m2'*theta1' - (theta1' + theta2')*l1*m2*sin(theta2)*l2'*theta1' - (theta1' + theta2')*l2*m2*sin(theta2)*l1'*theta1' - (2*theta1'*theta1'' + theta1'*theta2'' + theta1''*theta2')*l1*l2*m2*sin(theta2) + g*l2*sin(theta1 + theta2)*m2' + g*m2*sin(theta1 + theta2)*l2' + l2*m2*sin(theta1 + theta2)*g' - theta2'"
      ]
     },
     "execution_count": 50,
     "metadata": {},
     "output_type": "execute_result"
    }
   ],
   "source": [
    "# force applied at joint 2\n",
    "f2 = sm.diff(sm.diff(L,theta2),'t') - sm.diff(theta2)\n",
    "f2sim = sm.simplify(f2)\n",
    "f2sim"
   ]
  },
  {
   "cell_type": "code",
   "execution_count": null,
   "id": "e8e95472",
   "metadata": {},
   "outputs": [],
   "source": []
  }
 ],
 "metadata": {
  "kernelspec": {
   "display_name": "Python 3 (ipykernel)",
   "language": "python",
   "name": "python3"
  },
  "language_info": {
   "codemirror_mode": {
    "name": "ipython",
    "version": 3
   },
   "file_extension": ".py",
   "mimetype": "text/x-python",
   "name": "python",
   "nbconvert_exporter": "python",
   "pygments_lexer": "ipython3",
   "version": "3.9.6"
  }
 },
 "nbformat": 4,
 "nbformat_minor": 5
}
