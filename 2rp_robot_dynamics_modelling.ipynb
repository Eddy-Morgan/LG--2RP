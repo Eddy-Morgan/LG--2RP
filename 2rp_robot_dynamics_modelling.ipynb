{
 "cells": [
  {
   "cell_type": "code",
   "execution_count": 1,
   "id": "af807fa3",
   "metadata": {},
   "outputs": [],
   "source": [
    "import sympy as sm"
   ]
  },
  {
   "cell_type": "code",
   "execution_count": 2,
   "id": "79854ce1",
   "metadata": {},
   "outputs": [],
   "source": [
    "from sympy.physics.vector import init_vprinting\n",
    "init_vprinting(use_latex=\"mathjax\", pretty_print=False)"
   ]
  },
  {
   "cell_type": "code",
   "execution_count": 41,
   "id": "ad2a6c16",
   "metadata": {},
   "outputs": [],
   "source": [
    "from sympy.physics.mechanics import dynamicsymbols"
   ]
  },
  {
   "cell_type": "code",
   "execution_count": 203,
   "id": "843a9eb1",
   "metadata": {},
   "outputs": [
    {
     "data": {
      "text/latex": [
       "$\\displaystyle \\left( g, \\  m_{1}, \\  m_{2}, \\  l_{1}, \\  l_{2}, \\  \\theta_{1}, \\  \\theta_{2}, \\  \\dot{\\theta}_{1}, \\  \\dot{\\theta}_{2}, \\  \\ddot{\\theta}_{1}, \\  \\ddot{\\theta}_{2}\\right)$"
      ],
      "text/plain": [
       "(g, m1, m2, l1, l2, theta1, theta2, theta1', theta2', theta1'', theta2'')"
      ]
     },
     "execution_count": 203,
     "metadata": {},
     "output_type": "execute_result"
    }
   ],
   "source": [
    "m1, m2, l1, l2, g = sm.symbols('m1, m2, l1, l2, g', real=True)\n",
    "theta1, theta2 = dynamicsymbols('theta1, theta2')\n",
    "theta1d = dynamicsymbols('theta1',1)\n",
    "theta2d = dynamicsymbols('theta2',1)\n",
    "theta1dd = dynamicsymbols('theta1',2)\n",
    "theta2dd = dynamicsymbols('theta2',2)\n",
    "g, m1, m2, l1, l2, theta1, theta2, theta1d, theta2d, theta1dd, theta2dd"
   ]
  },
  {
   "cell_type": "code",
   "execution_count": 204,
   "id": "922ec1a1",
   "metadata": {},
   "outputs": [],
   "source": [
    "x1 = l1*sm.sin(theta1)\n",
    "y1 = l1*sm.cos(theta1)\n",
    "x2 = l1*sm.sin(theta1) + l2*sm.sin(theta1 + theta2)\n",
    "y2 = l1*sm.cos(theta1) + l2*sm.cos(theta1 + theta2)\n",
    "\n",
    "x1_dot = sm.diff(x1,'t')\n",
    "x2_dot = sm.diff(x2,'t')\n",
    "y1_dot = sm.diff(y1,'t')\n",
    "y2_dot = sm.diff(y2,'t')"
   ]
  },
  {
   "cell_type": "code",
   "execution_count": 205,
   "id": "c1e867fd",
   "metadata": {},
   "outputs": [
    {
     "data": {
      "text/latex": [
       "$\\displaystyle 0.5 l_{1}^{2} m_{1} \\sin^{2}{\\left(\\theta_{1} \\right)} \\dot{\\theta}_{1}^{2} + 0.5 l_{1}^{2} m_{1} \\cos^{2}{\\left(\\theta_{1} \\right)} \\dot{\\theta}_{1}^{2} + 0.5 m_{2} \\left(- l_{1} \\sin{\\left(\\theta_{1} \\right)} \\dot{\\theta}_{1} - l_{2} \\left(\\dot{\\theta}_{1} + \\dot{\\theta}_{2}\\right) \\sin{\\left(\\theta_{1} + \\theta_{2} \\right)}\\right)^{2} + 0.5 m_{2} \\left(l_{1} \\cos{\\left(\\theta_{1} \\right)} \\dot{\\theta}_{1} + l_{2} \\left(\\dot{\\theta}_{1} + \\dot{\\theta}_{2}\\right) \\cos{\\left(\\theta_{1} + \\theta_{2} \\right)}\\right)^{2}$"
      ],
      "text/plain": [
       "0.5*l1**2*m1*sin(theta1)**2*theta1'**2 + 0.5*l1**2*m1*cos(theta1)**2*theta1'**2 + 0.5*m2*(-l1*sin(theta1)*theta1' - l2*(theta1' + theta2')*sin(theta1 + theta2))**2 + 0.5*m2*(l1*cos(theta1)*theta1' + l2*(theta1' + theta2')*cos(theta1 + theta2))**2"
      ]
     },
     "execution_count": 205,
     "metadata": {},
     "output_type": "execute_result"
    }
   ],
   "source": [
    "# kinetic energy\n",
    "ke = (1/2)*m1*sm.Pow(x1_dot,2)\n",
    "ke += (1/2)*m1*sm.Pow(y1_dot,2)\n",
    "ke += (1/2)*m2*sm.Pow(x2_dot,2)\n",
    "ke += (1/2)*m2*sm.Pow(y2_dot,2)\n",
    "ke"
   ]
  },
  {
   "cell_type": "code",
   "execution_count": 206,
   "id": "c81475b1",
   "metadata": {},
   "outputs": [
    {
     "data": {
      "text/latex": [
       "$\\displaystyle g l_{1} m_{1} \\cos{\\left(\\theta_{1} \\right)} + g m_{2} \\left(l_{1} \\cos{\\left(\\theta_{1} \\right)} + l_{2} \\cos{\\left(\\theta_{1} + \\theta_{2} \\right)}\\right)$"
      ],
      "text/plain": [
       "g*l1*m1*cos(theta1) + g*m2*(l1*cos(theta1) + l2*cos(theta1 + theta2))"
      ]
     },
     "execution_count": 206,
     "metadata": {},
     "output_type": "execute_result"
    }
   ],
   "source": [
    "# potential energy\n",
    "pe = m1*g*y1\n",
    "pe += m2*g*y2\n",
    "pe"
   ]
  },
  {
   "cell_type": "code",
   "execution_count": 207,
   "id": "01f80939",
   "metadata": {},
   "outputs": [
    {
     "data": {
      "text/latex": [
       "$\\displaystyle - g l_{1} m_{1} \\cos{\\left(\\theta_{1} \\right)} - g m_{2} \\left(l_{1} \\cos{\\left(\\theta_{1} \\right)} + l_{2} \\cos{\\left(\\theta_{1} + \\theta_{2} \\right)}\\right) + 0.5 l_{1}^{2} m_{1} \\sin^{2}{\\left(\\theta_{1} \\right)} \\dot{\\theta}_{1}^{2} + 0.5 l_{1}^{2} m_{1} \\cos^{2}{\\left(\\theta_{1} \\right)} \\dot{\\theta}_{1}^{2} + 0.5 m_{2} \\left(- l_{1} \\sin{\\left(\\theta_{1} \\right)} \\dot{\\theta}_{1} - l_{2} \\left(\\dot{\\theta}_{1} + \\dot{\\theta}_{2}\\right) \\sin{\\left(\\theta_{1} + \\theta_{2} \\right)}\\right)^{2} + 0.5 m_{2} \\left(l_{1} \\cos{\\left(\\theta_{1} \\right)} \\dot{\\theta}_{1} + l_{2} \\left(\\dot{\\theta}_{1} + \\dot{\\theta}_{2}\\right) \\cos{\\left(\\theta_{1} + \\theta_{2} \\right)}\\right)^{2}$"
      ],
      "text/plain": [
       "-g*l1*m1*cos(theta1) - g*m2*(l1*cos(theta1) + l2*cos(theta1 + theta2)) + 0.5*l1**2*m1*sin(theta1)**2*theta1'**2 + 0.5*l1**2*m1*cos(theta1)**2*theta1'**2 + 0.5*m2*(-l1*sin(theta1)*theta1' - l2*(theta1' + theta2')*sin(theta1 + theta2))**2 + 0.5*m2*(l1*cos(theta1)*theta1' + l2*(theta1' + theta2')*cos(theta1 + theta2))**2"
      ]
     },
     "execution_count": 207,
     "metadata": {},
     "output_type": "execute_result"
    }
   ],
   "source": [
    "# the lagrangian equation\n",
    "L = ke - pe\n",
    "L"
   ]
  },
  {
   "cell_type": "code",
   "execution_count": 208,
   "id": "7391fbfc",
   "metadata": {},
   "outputs": [
    {
     "data": {
      "text/latex": [
       "$\\displaystyle - 1.0 g l_{1} m_{1} \\sin{\\left(\\theta_{1} \\right)} - 1.0 g l_{1} m_{2} \\sin{\\left(\\theta_{1} \\right)} - 1.0 g l_{2} m_{2} \\sin{\\left(\\theta_{1} + \\theta_{2} \\right)} + 1.0 l_{1}^{2} m_{1} \\ddot{\\theta}_{1} + 1.0 l_{1}^{2} m_{2} \\ddot{\\theta}_{1} - 2.0 l_{1} l_{2} m_{2} \\sin{\\left(\\theta_{2} \\right)} \\dot{\\theta}_{1} \\dot{\\theta}_{2} - 1.0 l_{1} l_{2} m_{2} \\sin{\\left(\\theta_{2} \\right)} \\dot{\\theta}_{2}^{2} + 2.0 l_{1} l_{2} m_{2} \\cos{\\left(\\theta_{2} \\right)} \\ddot{\\theta}_{1} + 1.0 l_{1} l_{2} m_{2} \\cos{\\left(\\theta_{2} \\right)} \\ddot{\\theta}_{2} + 1.0 l_{2}^{2} m_{2} \\ddot{\\theta}_{1} + 1.0 l_{2}^{2} m_{2} \\ddot{\\theta}_{2}$"
      ],
      "text/plain": [
       "-1.0*g*l1*m1*sin(theta1) - 1.0*g*l1*m2*sin(theta1) - 1.0*g*l2*m2*sin(theta1 + theta2) + 1.0*l1**2*m1*theta1'' + 1.0*l1**2*m2*theta1'' - 2.0*l1*l2*m2*sin(theta2)*theta1'*theta2' - 1.0*l1*l2*m2*sin(theta2)*theta2'**2 + 2.0*l1*l2*m2*cos(theta2)*theta1'' + 1.0*l1*l2*m2*cos(theta2)*theta2'' + 1.0*l2**2*m2*theta1'' + 1.0*l2**2*m2*theta2''"
      ]
     },
     "execution_count": 208,
     "metadata": {},
     "output_type": "execute_result"
    }
   ],
   "source": [
    "# force applied at joint 1\n",
    "f1 = sm.diff(sm.diff(L,theta1d),'t') - sm.diff(L,theta1)\n",
    "f1sim = sm.expand(sm.simplify(f1))\n",
    "f1sim"
   ]
  },
  {
   "cell_type": "code",
   "execution_count": 209,
   "id": "26a0ea3f",
   "metadata": {},
   "outputs": [
    {
     "data": {
      "text/latex": [
       "$\\displaystyle - 1.0 g l_{2} m_{2} \\sin{\\left(\\theta_{1} + \\theta_{2} \\right)} + 1.0 l_{1} l_{2} m_{2} \\sin{\\left(\\theta_{2} \\right)} \\dot{\\theta}_{1}^{2} + 1.0 l_{1} l_{2} m_{2} \\cos{\\left(\\theta_{2} \\right)} \\ddot{\\theta}_{1} + 1.0 l_{2}^{2} m_{2} \\ddot{\\theta}_{1} + 1.0 l_{2}^{2} m_{2} \\ddot{\\theta}_{2}$"
      ],
      "text/plain": [
       "-1.0*g*l2*m2*sin(theta1 + theta2) + 1.0*l1*l2*m2*sin(theta2)*theta1'**2 + 1.0*l1*l2*m2*cos(theta2)*theta1'' + 1.0*l2**2*m2*theta1'' + 1.0*l2**2*m2*theta2''"
      ]
     },
     "execution_count": 209,
     "metadata": {},
     "output_type": "execute_result"
    }
   ],
   "source": [
    "# force applied at joint 2\n",
    "f2 = sm.diff(sm.diff(L,theta2d),'t') - sm.diff(L,theta2)\n",
    "f2sim = sm.expand(sm.simplify(f2))\n",
    "f2sim"
   ]
  },
  {
   "cell_type": "code",
   "execution_count": 210,
   "id": "ff47bacf",
   "metadata": {},
   "outputs": [
    {
     "data": {
      "text/latex": [
       "$\\displaystyle \\left[\\begin{matrix}\\left(1.0 l_{1}^{2} m_{1} + 1.0 l_{1}^{2} m_{2} + 2.0 l_{1} l_{2} m_{2} \\cos{\\left(\\theta_{2} \\right)} + 1.0 l_{2}^{2} m_{2}\\right) \\ddot{\\theta}_{1} & \\left(1.0 l_{1} l_{2} m_{2} \\cos{\\left(\\theta_{2} \\right)} + 1.0 l_{2}^{2} m_{2}\\right) \\ddot{\\theta}_{2}\\\\\\left(1.0 l_{1} l_{2} m_{2} \\cos{\\left(\\theta_{2} \\right)} + 1.0 l_{2}^{2} m_{2}\\right) \\ddot{\\theta}_{1} & 1.0 l_{2}^{2} m_{2} \\ddot{\\theta}_{2}\\end{matrix}\\right]$"
      ],
      "text/plain": [
       "Matrix([\n",
       "[(1.0*l1**2*m1 + 1.0*l1**2*m2 + 2.0*l1*l2*m2*cos(theta2) + 1.0*l2**2*m2)*theta1'', (1.0*l1*l2*m2*cos(theta2) + 1.0*l2**2*m2)*theta2''],\n",
       "[                              (1.0*l1*l2*m2*cos(theta2) + 1.0*l2**2*m2)*theta1'',                              1.0*l2**2*m2*theta2'']])"
      ]
     },
     "execution_count": 210,
     "metadata": {},
     "output_type": "execute_result"
    }
   ],
   "source": [
    "#inertia term\n",
    "B11 = f1sim.coeff(theta1dd) * theta1dd\n",
    "B12 = f2sim.coeff(theta1dd) * theta1dd\n",
    "\n",
    "B21 = f1sim.coeff(theta2dd) * theta2dd\n",
    "B22 = f2sim.coeff(theta2dd) * theta2dd\n",
    "\n",
    "B = sm.Matrix([[B11, B21], [B12, B22]])\n",
    "B"
   ]
  },
  {
   "cell_type": "code",
   "execution_count": 211,
   "id": "cc2808cf",
   "metadata": {},
   "outputs": [
    {
     "data": {
      "text/latex": [
       "$\\displaystyle \\left[\\begin{matrix}- 2.0 l_{1} l_{2} m_{2} \\sin{\\left(\\theta_{2} \\right)} \\dot{\\theta}_{1} \\dot{\\theta}_{2} - 1.0 l_{1} l_{2} m_{2} \\sin{\\left(\\theta_{2} \\right)} \\dot{\\theta}_{2}^{2}\\\\1.0 l_{1} l_{2} m_{2} \\sin{\\left(\\theta_{2} \\right)} \\dot{\\theta}_{1}^{2}\\end{matrix}\\right]$"
      ],
      "text/plain": [
       "Matrix([\n",
       "[-2.0*l1*l2*m2*sin(theta2)*theta1'*theta2' - 1.0*l1*l2*m2*sin(theta2)*theta2'**2],\n",
       "[                                            1.0*l1*l2*m2*sin(theta2)*theta1'**2]])"
      ]
     },
     "execution_count": 211,
     "metadata": {},
     "output_type": "execute_result"
    }
   ],
   "source": [
    "#centrifugal / Coriolis force term,\n",
    "C11 = (f1sim.coeff(theta1d * theta2d)*theta1d * theta2d) + (f1sim.coeff(theta1d * theta1d)* theta1d * theta1d) + (f1sim.coeff(theta2d * theta2d)*theta2d * theta2d)\n",
    "C12 = (f2sim.coeff(theta1d * theta2d)*theta1d * theta2d) + (f2sim.coeff(theta1d * theta1d)* theta1d * theta1d) + (f2sim.coeff(theta2d * theta2d)*theta2d * theta2d)\n",
    "\n",
    "C = sm.Matrix([C11, C12])\n",
    "C"
   ]
  },
  {
   "cell_type": "code",
   "execution_count": 212,
   "id": "fedadaba",
   "metadata": {},
   "outputs": [
    {
     "data": {
      "text/latex": [
       "$\\displaystyle \\left[\\begin{matrix}- 1.0 g l_{1} m_{1} \\sin{\\left(\\theta_{1} \\right)} - 1.0 g l_{1} m_{2} \\sin{\\left(\\theta_{1} \\right)} - 1.0 g l_{2} m_{2} \\sin{\\left(\\theta_{1} + \\theta_{2} \\right)}\\\\- 1.0 g l_{2} m_{2} \\sin{\\left(\\theta_{1} + \\theta_{2} \\right)}\\end{matrix}\\right]$"
      ],
      "text/plain": [
       "Matrix([\n",
       "[-1.0*g*l1*m1*sin(theta1) - 1.0*g*l1*m2*sin(theta1) - 1.0*g*l2*m2*sin(theta1 + theta2)],\n",
       "[                                                    -1.0*g*l2*m2*sin(theta1 + theta2)]])"
      ]
     },
     "execution_count": 212,
     "metadata": {},
     "output_type": "execute_result"
    }
   ],
   "source": [
    "# gravity term\n",
    "g1 = f1sim - sm.expand(B11) - sm.expand(B21) - sm.expand(C11)\n",
    "g2 = f2sim - sm.expand(B12) - sm.expand(B22) - sm.expand(C12)\n",
    "g = sm.Matrix([g1, g2])\n",
    "g"
   ]
  },
  {
   "cell_type": "code",
   "execution_count": null,
   "id": "a9dd2ab8",
   "metadata": {},
   "outputs": [],
   "source": []
  }
 ],
 "metadata": {
  "kernelspec": {
   "display_name": "Python 3 (ipykernel)",
   "language": "python",
   "name": "python3"
  },
  "language_info": {
   "codemirror_mode": {
    "name": "ipython",
    "version": 3
   },
   "file_extension": ".py",
   "mimetype": "text/x-python",
   "name": "python",
   "nbconvert_exporter": "python",
   "pygments_lexer": "ipython3",
   "version": "3.9.6"
  }
 },
 "nbformat": 4,
 "nbformat_minor": 5
}
